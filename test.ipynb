{
 "cells": [
  {
   "cell_type": "code",
   "execution_count": 9,
   "metadata": {},
   "outputs": [],
   "source": [
    "import os\n",
    "import traci"
   ]
  },
  {
   "cell_type": "code",
   "execution_count": 10,
   "metadata": {},
   "outputs": [],
   "source": [
    "simulation_dir = 'F:/SUMO/OptimalEmission-SUMO-ReinforcementLearning/scenarios'"
   ]
  },
  {
   "cell_type": "code",
   "execution_count": 11,
   "metadata": {},
   "outputs": [],
   "source": [
    "import os\n",
    "list = [x[0] for x in os.walk(simulation_dir)]"
   ]
  },
  {
   "cell_type": "code",
   "execution_count": 12,
   "metadata": {},
   "outputs": [
    {
     "data": {
      "text/plain": [
       "['F:/SUMO/OptimalEmission-SUMO-ReinforcementLearning/scenarios',\n",
       " 'F:/SUMO/OptimalEmission-SUMO-ReinforcementLearning/scenarios\\\\aachen-Germany',\n",
       " 'F:/SUMO/OptimalEmission-SUMO-ReinforcementLearning/scenarios\\\\autobahn-A2-Germany',\n",
       " 'F:/SUMO/OptimalEmission-SUMO-ReinforcementLearning/scenarios\\\\berlin-center-Germany',\n",
       " 'F:/SUMO/OptimalEmission-SUMO-ReinforcementLearning/scenarios\\\\budapest-center-Hungary',\n",
       " 'F:/SUMO/OptimalEmission-SUMO-ReinforcementLearning/scenarios\\\\castro-brazil',\n",
       " 'F:/SUMO/OptimalEmission-SUMO-ReinforcementLearning/scenarios\\\\highway-cas.branco-Brazil',\n",
       " 'F:/SUMO/OptimalEmission-SUMO-ReinforcementLearning/scenarios\\\\highway-m1-hungary',\n",
       " 'F:/SUMO/OptimalEmission-SUMO-ReinforcementLearning/scenarios\\\\saoPaulo-center-Brazil',\n",
       " 'F:/SUMO/OptimalEmission-SUMO-ReinforcementLearning/scenarios\\\\szombathely-hungary']"
      ]
     },
     "execution_count": 12,
     "metadata": {},
     "output_type": "execute_result"
    }
   ],
   "source": [
    "list"
   ]
  },
  {
   "cell_type": "code",
   "execution_count": 5,
   "metadata": {},
   "outputs": [
    {
     "data": {
      "text/plain": [
       "'F:/SUMO/OptimalEmission-SUMO-ReinforcementLearning/scenarios\\\\aachen-Germany'"
      ]
     },
     "execution_count": 5,
     "metadata": {},
     "output_type": "execute_result"
    }
   ],
   "source": [
    "list[1]"
   ]
  },
  {
   "cell_type": "code",
   "execution_count": 13,
   "metadata": {},
   "outputs": [
    {
     "data": {
      "text/plain": [
       "(21, 'SUMO 1.19.0')"
      ]
     },
     "execution_count": 13,
     "metadata": {},
     "output_type": "execute_result"
    }
   ],
   "source": [
    "simulation_dir = list[2]\n",
    "\n",
    "for f in os.listdir(simulation_dir):\n",
    "    if f.endswith('.sumocfg'):\n",
    "        _SUMOCFG = os.path.join(simulation_dir, f)\n",
    "\n",
    "sumo_binary = os.path.join(os.environ['SUMO_HOME'], 'bin', 'sumo-gui')\n",
    "sumo_cmd = [sumo_binary, \"-c\", _SUMOCFG]\n",
    "\n",
    "# Star simulation\n",
    "traci.start(sumo_cmd)"
   ]
  },
  {
   "cell_type": "code",
   "execution_count": 19,
   "metadata": {},
   "outputs": [],
   "source": [
    "lane = traci.edge.getIDList()"
   ]
  },
  {
   "cell_type": "code",
   "execution_count": 20,
   "metadata": {},
   "outputs": [
    {
     "data": {
      "text/plain": [
       "1810"
      ]
     },
     "execution_count": 20,
     "metadata": {},
     "output_type": "execute_result"
    }
   ],
   "source": [
    "len(lane)"
   ]
  },
  {
   "cell_type": "code",
   "execution_count": 14,
   "metadata": {},
   "outputs": [],
   "source": [
    "from collections import Counter"
   ]
  },
  {
   "cell_type": "code",
   "execution_count": 15,
   "metadata": {},
   "outputs": [],
   "source": [
    "from utils import emissions"
   ]
  },
  {
   "cell_type": "code",
   "execution_count": 8,
   "metadata": {},
   "outputs": [
    {
     "name": "stdout",
     "output_type": "stream",
     "text": [
      "2\n",
      "2\n",
      "3\n",
      "2\n",
      "4\n",
      "3\n",
      "6\n",
      "5\n",
      "8\n",
      "6\n",
      "10\n",
      "8\n",
      "11\n",
      "9\n",
      "14\n",
      "11\n",
      "15\n",
      "11\n",
      "16\n",
      "12\n",
      "18\n",
      "14\n",
      "19\n",
      "15\n",
      "21\n",
      "17\n",
      "22\n",
      "18\n",
      "24\n",
      "20\n",
      "25\n",
      "20\n",
      "26\n",
      "21\n",
      "28\n",
      "22\n",
      "30\n",
      "23\n",
      "31\n",
      "25\n",
      "32\n",
      "26\n",
      "35\n",
      "28\n",
      "36\n",
      "28\n",
      "37\n",
      "30\n",
      "39\n",
      "31\n",
      "41\n",
      "32\n",
      "43\n",
      "34\n",
      "44\n",
      "35\n",
      "47\n",
      "37\n",
      "48\n",
      "37\n",
      "49\n",
      "39\n",
      "51\n",
      "40\n",
      "53\n",
      "41\n",
      "55\n",
      "43\n",
      "56\n",
      "44\n",
      "59\n",
      "46\n",
      "60\n",
      "46\n",
      "62\n",
      "48\n",
      "64\n",
      "49\n",
      "65\n",
      "50\n",
      "67\n",
      "52\n",
      "68\n",
      "53\n",
      "71\n",
      "55\n",
      "72\n",
      "55\n",
      "74\n",
      "57\n",
      "76\n",
      "58\n",
      "77\n",
      "60\n",
      "79\n",
      "61\n",
      "80\n",
      "62\n",
      "83\n",
      "64\n",
      "84\n",
      "64\n",
      "86\n",
      "66\n",
      "88\n",
      "67\n",
      "89\n",
      "69\n",
      "90\n",
      "70\n",
      "91\n",
      "71\n",
      "94\n",
      "73\n",
      "95\n",
      "74\n",
      "98\n",
      "75\n",
      "100\n",
      "76\n",
      "101\n",
      "78\n",
      "103\n",
      "79\n",
      "104\n",
      "80\n",
      "105\n",
      "82\n",
      "106\n",
      "83\n",
      "108\n",
      "84\n",
      "110\n",
      "85\n",
      "110\n",
      "87\n",
      "112\n",
      "88\n",
      "114\n",
      "90\n",
      "116\n",
      "91\n",
      "117\n",
      "92\n",
      "119\n",
      "93\n",
      "121\n",
      "94\n",
      "123\n",
      "96\n",
      "124\n",
      "97\n",
      "125\n",
      "99\n",
      "127\n",
      "100\n",
      "128\n",
      "101\n",
      "130\n",
      "102\n",
      "132\n",
      "103\n",
      "133\n",
      "105\n",
      "134\n",
      "106\n",
      "136\n",
      "108\n",
      "139\n",
      "109\n",
      "140\n",
      "110\n",
      "142\n",
      "111\n",
      "144\n",
      "112\n",
      "145\n",
      "114\n",
      "146\n",
      "115\n",
      "148\n",
      "116\n",
      "149\n",
      "117\n",
      "150\n",
      "119\n",
      "152\n",
      "120\n",
      "154\n",
      "121\n",
      "156\n",
      "123\n",
      "157\n",
      "124\n",
      "159\n",
      "126\n",
      "161\n",
      "127\n",
      "162\n",
      "129\n"
     ]
    }
   ],
   "source": [
    "step = 0\n",
    "\n",
    "veh_types =[]\n",
    "veh_speeds= []\n",
    "veh_class = []\n",
    "while step <100:\n",
    "    veh_types =[]\n",
    "    traci.simulationStep()\n",
    "    \n",
    "    vehicles = emissions.get_all_vehicles()\n",
    "    for vehicle in vehicles:\n",
    "        veh_types.append(vehicle.type)\n",
    "        veh_speeds.append(vehicle.speed)\n",
    "        veh_class.append(vehicle.classe)\n",
    "\n",
    "\n",
    "    total_cars = Counter(veh_types)['motorcycle_motorcycle'] + Counter(veh_types)['veh_passenger']\n",
    "    total_trucks = Counter(veh_types)['bus_bus'] + Counter(veh_types)['truck_truck']\n",
    "    print(total_cars+total_trucks)\n",
    "    # print(total_trucks)\n",
    "\n",
    "    mean_speed = sum(veh_speeds) / (len(veh_speeds)+0.00001 )\n",
    "\n",
    "    # print(mean_speed)\n",
    "\n",
    "    step +=1\n",
    "\n",
    "traci.close(False)"
   ]
  },
  {
   "cell_type": "code",
   "execution_count": 26,
   "metadata": {},
   "outputs": [
    {
     "name": "stdout",
     "output_type": "stream",
     "text": [
      "{'HBEFA3/HDV', 'HBEFA3/PC_G_EU4', 'HBEFA3/Bus', 'HBEFA3/LDV_G_EU6'}\n"
     ]
    }
   ],
   "source": [
    "myset = set(veh_class)\n",
    "print(myset)"
   ]
  },
  {
   "cell_type": "markdown",
   "metadata": {},
   "source": [
    "{'HBEFA3/HDV', 'HBEFA3/PC_G_EU4', 'HBEFA3/Bus', 'HBEFA3/LDV_G_EU6'} 01\n",
    "\n"
   ]
  },
  {
   "cell_type": "code",
   "execution_count": 21,
   "metadata": {},
   "outputs": [],
   "source": [
    "traci.close(False)"
   ]
  }
 ],
 "metadata": {
  "kernelspec": {
   "display_name": ".venv",
   "language": "python",
   "name": "python3"
  },
  "language_info": {
   "codemirror_mode": {
    "name": "ipython",
    "version": 3
   },
   "file_extension": ".py",
   "mimetype": "text/x-python",
   "name": "python",
   "nbconvert_exporter": "python",
   "pygments_lexer": "ipython3",
   "version": "3.8.18"
  }
 },
 "nbformat": 4,
 "nbformat_minor": 2
}
